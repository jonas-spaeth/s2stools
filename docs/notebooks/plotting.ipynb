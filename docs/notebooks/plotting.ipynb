{
 "cells": [
  {
   "cell_type": "markdown",
   "id": "89a8db3e",
   "metadata": {
    "cell_marker": "\"\"\""
   },
   "source": [
    "# Plotting routines working with S2S data"
   ]
  },
  {
   "cell_type": "markdown",
   "id": "c2e63e56",
   "metadata": {
    "cell_marker": "\"\"\""
   },
   "source": [
    "Imports:"
   ]
  },
  {
   "cell_type": "code",
   "execution_count": null,
   "id": "371aff2b",
   "metadata": {},
   "outputs": [],
   "source": [
    "import s2stools\n",
    "import xarray as xr\n",
    "import numpy as np\n",
    "import pandas as pd\n",
    "import matplotlib.pyplot as plt"
   ]
  },
  {
   "cell_type": "markdown",
   "id": "b9ac4924",
   "metadata": {
    "cell_marker": "\"\"\""
   },
   "source": [
    "Create data:"
   ]
  },
  {
   "cell_type": "code",
   "execution_count": null,
   "id": "62178433",
   "metadata": {},
   "outputs": [],
   "source": [
    "np.random.seed(42)\n",
    "\n",
    "n_member, n_timesteps = 10, 14\n",
    "leadtime = pd.timedelta_range(start='0D', periods=n_timesteps, freq='1D')\n",
    "da = xr.DataArray(\n",
    "    np.cumsum(np.abs(np.random.normal(size=(n_member, n_timesteps))), axis=1),\n",
    "    coords=dict(member=np.arange(n_member), leadtime=leadtime), dims=[\"member\", \"leadtime\"]\n",
    ")\n",
    "\n",
    "da"
   ]
  },
  {
   "cell_type": "markdown",
   "id": "b3ad754b",
   "metadata": {
    "cell_marker": "\"\"\""
   },
   "source": [
    "Plot:"
   ]
  },
  {
   "cell_type": "code",
   "execution_count": null,
   "id": "5c809efb",
   "metadata": {},
   "outputs": [],
   "source": [
    "da.plot(hue='member', figsize=(4,1), add_legend=False)\n",
    "plt.title(\"timedelta on xaxis is in nanoseconds by default\")\n",
    "plt.show()\n",
    "\n",
    "da.plot(hue='member', figsize=(4,1), add_legend=False)\n",
    "s2stools.plot.xaxis_unit_days(multiple=2)\n",
    "plt.title(\"timedelta on xaxis in days\")\n",
    "plt.show()\n",
    "\n",
    "da.plot(hue='member', figsize=(4,1), add_legend=False)\n",
    "s2stools.plot.xaxis_unit_days(multiple=2)\n",
    "s2stools.plot.xlim_days(plt.gca(), 3,7)\n",
    "plt.title(\"control x limits\")\n",
    "plt.show()"
   ]
  }
 ],
 "metadata": {
  "jupytext": {
   "cell_markers": "\"\"\""
  },
  "kernelspec": {
   "display_name": "Python 3",
   "language": "python",
   "name": "python3"
  }
 },
 "nbformat": 4,
 "nbformat_minor": 5
}
