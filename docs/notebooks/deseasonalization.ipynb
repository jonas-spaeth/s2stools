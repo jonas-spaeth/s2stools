{
 "cells": [
  {
   "cell_type": "markdown",
   "id": "5d77592f",
   "metadata": {
    "cell_marker": "\"\"\""
   },
   "source": [
    "# Demo on climatology and anomalies\n",
    "\n",
    "Yet to come."
   ]
  },
  {
   "cell_type": "code",
   "execution_count": null,
   "id": "7ecb178c",
   "metadata": {},
   "outputs": [],
   "source": [
    "print(42)"
   ]
  }
 ],
 "metadata": {
  "jupytext": {
   "cell_markers": "\"\"\""
  },
  "kernelspec": {
   "display_name": "Python 3",
   "language": "python",
   "name": "python3"
  }
 },
 "nbformat": 4,
 "nbformat_minor": 5
}
